{
 "cells": [
  {
   "cell_type": "code",
   "execution_count": 4,
   "id": "814e685e",
   "metadata": {},
   "outputs": [],
   "source": [
    "import pymupdf4llm\n",
    "import re\n",
    "import json"
   ]
  },
  {
   "cell_type": "code",
   "execution_count": null,
   "id": "59943375",
   "metadata": {},
   "outputs": [],
   "source": [
    "text = pymupdf4llm.to_markdown(\"ug_rules.pdf\")"
   ]
  },
  {
   "cell_type": "code",
   "execution_count": null,
   "id": "4bb3e04f",
   "metadata": {},
   "outputs": [
    {
     "data": {
      "text/plain": [
       "[(0, '1'),\n",
       " (1, '1.1'),\n",
       " (2, '1.1.1'),\n",
       " (19, '1.1.2'),\n",
       " (29, '1.1.3'),\n",
       " (36, '1.2'),\n",
       " (37, '1.2.1'),\n",
       " (51, '1.2.2'),\n",
       " (62, '1.2.3'),\n",
       " (110, '1.2.4'),\n",
       " (123, '1.3'),\n",
       " (206, '1.4'),\n",
       " (230, '1.5'),\n",
       " (262, '1.6'),\n",
       " (312, '1.7'),\n",
       " (399, '1.8'),\n",
       " (430, '1.9'),\n",
       " (473, '1.10'),\n",
       " (494, '1.11'),\n",
       " (505, '1.12'),\n",
       " (510, '1.13'),\n",
       " (514, '1.14'),\n",
       " (1964, '3.1'),\n",
       " (2008, '3.2'),\n",
       " (2026, '3.3'),\n",
       " (2033, '3.4'),\n",
       " (2166, '3.5'),\n",
       " (2220, '3.6'),\n",
       " (2253, '3.6.1'),\n",
       " (2276, '3.6.2'),\n",
       " (2277, '3.6.2.1'),\n",
       " (2286, '3.6.2.2'),\n",
       " (2301, '3.6.2.3'),\n",
       " (2313, '3.6.2.4'),\n",
       " (2326, '3.6.2.5'),\n",
       " (2346, '3.6.2.6'),\n",
       " (2376, '3.6.3'),\n",
       " (2407, '3.6.3.1'),\n",
       " (2500, '3.7')]"
      ]
     },
     "execution_count": 9,
     "metadata": {},
     "output_type": "execute_result"
    }
   ],
   "source": [
    "# clean up UG rules\n",
    "header = '**Undergraduate Programme Rules** Courses of Study 2024-2025'\n",
    "lines = [l for l in text.split('\\n') if l.strip() != '' and l.strip() != header]\n",
    "lines = lines[58:] # skip the contents and intro part\n",
    "\n",
    "# find and split at headers\n",
    "header_regex = r\"^\\*\\*(\\.?\\d+)+\"\n",
    "sections = [(i, re.match(header_regex, l).group(0)[2:]) for i, l in enumerate(lines) if re.match(header_regex, l)]\n",
    "sections"
   ]
  },
  {
   "cell_type": "code",
   "execution_count": null,
   "id": "fb12b66b",
   "metadata": {},
   "outputs": [
    {
     "data": {
      "text/plain": [
       "39"
      ]
     },
     "execution_count": 16,
     "metadata": {},
     "output_type": "execute_result"
    }
   ],
   "source": [
    "# create a nested dict of sections\n",
    "parsed = {}\n",
    "for i, (idx, sec) in enumerate(sections):\n",
    "    data = {'section': sec, 'title': lines[idx], 'content': ''}\n",
    "    if i + 1 < len(sections):\n",
    "        next_idx = sections[i + 1][0]\n",
    "        data['content'] = '\\n'.join(lines[(idx+1):next_idx])\n",
    "    else:\n",
    "        data['content'] = '\\n'.join(lines[(idx+1):])\n",
    "    parsed[sec] = data"
   ]
  },
  {
   "cell_type": "code",
   "execution_count": 25,
   "id": "0365d95e",
   "metadata": {},
   "outputs": [],
   "source": [
    "# create a reusable modular function from all above code\n",
    "def parse_pdf_rules_to_dict(text, header_text, start_line=0):\n",
    "    # clean up doc\n",
    "    lines = [l.strip() for l in text.split('\\n') if l.strip() != '' and l.strip() != header_text]\n",
    "    lines = lines[start_line:] # skip the contents and intro part\n",
    "    \n",
    "    # find and split at headers\n",
    "    header_regex = r\"\\#* ?\\*\\*((\\.?\\d+)+).*\"\n",
    "    \n",
    "    sections = [(i, re.match(header_regex, l).group(1)) for i, l in enumerate(lines) if re.match(header_regex, l)]\n",
    "\n",
    "    # create a nested dict of sections\n",
    "    parsed = {}\n",
    "    for i, (idx, sec) in enumerate(sections):\n",
    "        data = {'title': lines[idx], 'content': '', 'subsections': []}\n",
    "        if i + 1 < len(sections):\n",
    "            next_idx = sections[i + 1][0]\n",
    "            data['content'] = '\\n'.join(lines[(idx+1):next_idx])\n",
    "        else:\n",
    "            data['content'] = '\\n'.join(lines[(idx+1):])\n",
    "        # if this is a subsection, link to parent\n",
    "        if '.' in sec:\n",
    "            split = sec.split('.')\n",
    "            for j in range(1, len(split)):\n",
    "                parent_sec = '.'.join(split[:j])\n",
    "                if parent_sec in parsed:\n",
    "                    parsed[parent_sec]['subsections'].append(sec)\n",
    "                    break\n",
    "            parent_sec = sec.rsplit('.', 1)[0]\n",
    "        parsed[sec] = data\n",
    "    return parsed"
   ]
  },
  {
   "cell_type": "code",
   "execution_count": 23,
   "id": "22734579",
   "metadata": {},
   "outputs": [
    {
     "name": "stdout",
     "output_type": "stream",
     "text": [
      "Processing cos_24_rules.pdf\n",
      "Processing pg_rules.pdf\n",
      "Processing ug_rules.pdf\n"
     ]
    }
   ],
   "source": [
    "sources = [\n",
    "    'cos_24_rules.pdf',\n",
    "    'pg_rules.pdf',\n",
    "    'ug_rules.pdf'\n",
    "]\n",
    "for source in sources:\n",
    "    print('Processing', source)\n",
    "    text = pymupdf4llm.to_markdown(source)\n",
    "    lines = [l.strip() for l in text.split('\\n') if l.strip() != '']\n",
    "    with open('markdown/' + source.replace('.pdf', '.md'), 'w+') as f:\n",
    "        f.write('\\n'.join(lines))"
   ]
  },
  {
   "cell_type": "code",
   "execution_count": 26,
   "id": "e39a073c",
   "metadata": {},
   "outputs": [
    {
     "name": "stdout",
     "output_type": "stream",
     "text": [
      "Processing cos_24_rules.pdf\n",
      "Processing pg_rules.pdf\n",
      "Processing ug_rules.pdf\n"
     ]
    }
   ],
   "source": [
    "starter_lines = [66, 47, 59]\n",
    "headers = ['Courses of Study 2024-2025 **common rules**', '**Undergraduate Programme Rules** Courses of Study 2024-2025', '**Postgraduate Programme Rules** Courses of Study 2024-2025']\n",
    "for source, start, header in zip(sources, starter_lines, headers):\n",
    "    print('Processing', source)\n",
    "    text = ''\n",
    "    with open('markdown/' + source.replace('.pdf', '.md'), 'r') as f:\n",
    "        text = f.read()\n",
    "    \n",
    "    processed = parse_pdf_rules_to_dict(text, header, start)\n",
    "    with open('processed/' + source.replace('.pdf', '.json'), 'w+') as f:\n",
    "        json.dump(processed, f, indent=4)"
   ]
  },
  {
   "cell_type": "code",
   "execution_count": 29,
   "id": "6c014501",
   "metadata": {},
   "outputs": [],
   "source": [
    "# converts processed json files to a jsonl file\n",
    "files = [\n",
    "    'processed/cos_24_rules.json',\n",
    "    'processed/ug_rules.json',\n",
    "    'processed/pg_rules.json'\n",
    "]\n",
    "urls = [\n",
    "    'https://home.iitd.ac.in/uploads/General%20Information/CoS%202024__General%20Rules%20(1).pdf',\n",
    "    'https://home.iitd.ac.in/uploads/PG%20Programme%20Rules/CoS%202024__PG%20Programme%20Rules%20Changed.pdf',\n",
    "    'https://home.iitd.ac.in/uploads/UG%20Programme%20Rules/CoS%202024__UG%20Programme%20Rules__changed.pdf'\n",
    "]\n",
    "for fname, url in zip(files, urls):\n",
    "    with open(f'jsonl/{fname.split(\"/\")[-1].replace(\".json\", \".jsonl\")}', 'w+') as out_f:\n",
    "        with open(fname, 'r') as in_f:\n",
    "            data = json.load(in_f)\n",
    "            for k, v in data.items():\n",
    "                record = {\n",
    "                    'section': v['title'].replace('*', '').replace('#', ''),\n",
    "                    'content': v['content'],\n",
    "                    'url': url,\n",
    "                    'file': fname.split('/')[-1]\n",
    "                }\n",
    "                out_f.write(json.dumps(record) + '\\n')"
   ]
  },
  {
   "cell_type": "code",
   "execution_count": null,
   "id": "be03bb92",
   "metadata": {},
   "outputs": [],
   "source": [
    "# convert courses.json to jsonl\n",
    "with open('jsonl/courses.jsonl', 'w+') as out_f:\n",
    "    with open('processed/courses.json', 'r') as in_f:\n",
    "        data = json.load(in_f)\n",
    "        for k, v in data.items():\n",
    "            record = {\n",
    "                'section': k,\n",
    "                'content': json.dumps(v),\n",
    "                'url': 'https://home.iitd.ac.in/uploads/Course%20Descriptions/CoS%202024__Course%20Descriptions%20Changed.pdf',\n",
    "                'file': 'courses_of_study_2024.json'\n",
    "            }\n",
    "            out_f.write(json.dumps(record) + '\\n')"
   ]
  },
  {
   "cell_type": "code",
   "execution_count": 9,
   "id": "4b50b5aa",
   "metadata": {},
   "outputs": [],
   "source": [
    "# parse courses_offered\n",
    "import pandas as pd\n",
    "df = pd.read_csv('courses_offered.csv')\n",
    "# df.to_json('processed/courses_offered.json', orient='records', indent=4)\n",
    "df.columns = ['year', 'semester', 'course_code', 'credits', 'hours_lecture', 'hours_tutorial', 'hours_practical', 'slot', 'name', 'instructor']\n",
    "df.to_json('jsonl/courses_offered.jsonl', orient='records', lines=True)"
   ]
  }
 ],
 "metadata": {
  "kernelspec": {
   "display_name": "chatiitd",
   "language": "python",
   "name": "python3"
  },
  "language_info": {
   "codemirror_mode": {
    "name": "ipython",
    "version": 3
   },
   "file_extension": ".py",
   "mimetype": "text/x-python",
   "name": "python",
   "nbconvert_exporter": "python",
   "pygments_lexer": "ipython3",
   "version": "3.11.11"
  }
 },
 "nbformat": 4,
 "nbformat_minor": 5
}
